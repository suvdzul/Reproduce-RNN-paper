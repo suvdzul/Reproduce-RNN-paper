{
  "nbformat": 4,
  "nbformat_minor": 0,
  "metadata": {
    "colab": {
      "name": "Covariates - Prescriptions.ipynb",
      "provenance": [],
      "collapsed_sections": []
    },
    "kernelspec": {
      "name": "python3",
      "display_name": "Python 3"
    },
    "language_info": {
      "name": "python"
    }
  },
  "cells": [
    {
      "cell_type": "code",
      "execution_count": 1,
      "metadata": {
        "id": "_9sUmNMmFasl"
      },
      "outputs": [],
      "source": [
        "# Access data using Google BigQuery.\n",
        "from google.colab import auth\n",
        "from google.cloud import bigquery\n",
        "\n",
        "# You only need to authenticate once per session.\n",
        "auth.authenticate_user()"
      ]
    },
    {
      "cell_type": "code",
      "source": [
        "# Import libraries\n",
        "from datetime import timedelta\n",
        "import os\n",
        "\n",
        "import numpy as np\n",
        "import pandas as pd\n",
        "import matplotlib.pyplot as plt\n",
        "import pandas_gbq\n",
        "\n",
        "# below imports are used for pretty pandas dataframes and plots\n",
        "from IPython.display import display, HTML\n",
        "%matplotlib inline\n",
        "plt.style.use('ggplot')\n",
        "\n",
        "# Set up environment variables\n",
        "project_id = 'genuine-box-350018'\n",
        "os.environ[\"GOOGLE_CLOUD_PROJECT\"] = project_id\n",
        "pandas_gbq.context.project = project_id\n",
        "\n",
        "# Read data from BigQuery into pandas dataframes.\n",
        "def run_query(query, project_id=project_id):\n",
        "    return pd.io.gbq.read_gbq(\n",
        "        query,\n",
        "        project_id=project_id,\n",
        "        dialect=\"standard\"\n",
        "    )\n",
        "\n",
        "if project_id == 'CHANGE-ME':\n",
        "  raise ValueError('You must change project_id to your GCP project at the top of this cell.')\n",
        "\n",
        "  # test it works\n",
        "df = run_query(\"\"\"\n",
        "SELECT *\n",
        "FROM `physionet-data.mimic_core.patients`\n",
        "WHERE subject_id = 10012853\n",
        "\"\"\")\n",
        "assert df.shape[0] >= 1, 'unable to query MIMIC!'\n",
        "display(df)\n"
      ],
      "metadata": {
        "id": "fsAauFzhFotL",
        "colab": {
          "base_uri": "https://localhost:8080/",
          "height": 81
        },
        "outputId": "c20f68f0-2311-48fa-aa36-3ededbb00d25"
      },
      "execution_count": 2,
      "outputs": [
        {
          "output_type": "display_data",
          "data": {
            "text/plain": [
              "   subject_id gender  anchor_age  anchor_year anchor_year_group dod\n",
              "0    10012853      F          91         2175       2014 - 2016 NaT"
            ],
            "text/html": [
              "\n",
              "  <div id=\"df-1f5014e2-9527-4b65-9a5a-b357e269547c\">\n",
              "    <div class=\"colab-df-container\">\n",
              "      <div>\n",
              "<style scoped>\n",
              "    .dataframe tbody tr th:only-of-type {\n",
              "        vertical-align: middle;\n",
              "    }\n",
              "\n",
              "    .dataframe tbody tr th {\n",
              "        vertical-align: top;\n",
              "    }\n",
              "\n",
              "    .dataframe thead th {\n",
              "        text-align: right;\n",
              "    }\n",
              "</style>\n",
              "<table border=\"1\" class=\"dataframe\">\n",
              "  <thead>\n",
              "    <tr style=\"text-align: right;\">\n",
              "      <th></th>\n",
              "      <th>subject_id</th>\n",
              "      <th>gender</th>\n",
              "      <th>anchor_age</th>\n",
              "      <th>anchor_year</th>\n",
              "      <th>anchor_year_group</th>\n",
              "      <th>dod</th>\n",
              "    </tr>\n",
              "  </thead>\n",
              "  <tbody>\n",
              "    <tr>\n",
              "      <th>0</th>\n",
              "      <td>10012853</td>\n",
              "      <td>F</td>\n",
              "      <td>91</td>\n",
              "      <td>2175</td>\n",
              "      <td>2014 - 2016</td>\n",
              "      <td>NaT</td>\n",
              "    </tr>\n",
              "  </tbody>\n",
              "</table>\n",
              "</div>\n",
              "      <button class=\"colab-df-convert\" onclick=\"convertToInteractive('df-1f5014e2-9527-4b65-9a5a-b357e269547c')\"\n",
              "              title=\"Convert this dataframe to an interactive table.\"\n",
              "              style=\"display:none;\">\n",
              "        \n",
              "  <svg xmlns=\"http://www.w3.org/2000/svg\" height=\"24px\"viewBox=\"0 0 24 24\"\n",
              "       width=\"24px\">\n",
              "    <path d=\"M0 0h24v24H0V0z\" fill=\"none\"/>\n",
              "    <path d=\"M18.56 5.44l.94 2.06.94-2.06 2.06-.94-2.06-.94-.94-2.06-.94 2.06-2.06.94zm-11 1L8.5 8.5l.94-2.06 2.06-.94-2.06-.94L8.5 2.5l-.94 2.06-2.06.94zm10 10l.94 2.06.94-2.06 2.06-.94-2.06-.94-.94-2.06-.94 2.06-2.06.94z\"/><path d=\"M17.41 7.96l-1.37-1.37c-.4-.4-.92-.59-1.43-.59-.52 0-1.04.2-1.43.59L10.3 9.45l-7.72 7.72c-.78.78-.78 2.05 0 2.83L4 21.41c.39.39.9.59 1.41.59.51 0 1.02-.2 1.41-.59l7.78-7.78 2.81-2.81c.8-.78.8-2.07 0-2.86zM5.41 20L4 18.59l7.72-7.72 1.47 1.35L5.41 20z\"/>\n",
              "  </svg>\n",
              "      </button>\n",
              "      \n",
              "  <style>\n",
              "    .colab-df-container {\n",
              "      display:flex;\n",
              "      flex-wrap:wrap;\n",
              "      gap: 12px;\n",
              "    }\n",
              "\n",
              "    .colab-df-convert {\n",
              "      background-color: #E8F0FE;\n",
              "      border: none;\n",
              "      border-radius: 50%;\n",
              "      cursor: pointer;\n",
              "      display: none;\n",
              "      fill: #1967D2;\n",
              "      height: 32px;\n",
              "      padding: 0 0 0 0;\n",
              "      width: 32px;\n",
              "    }\n",
              "\n",
              "    .colab-df-convert:hover {\n",
              "      background-color: #E2EBFA;\n",
              "      box-shadow: 0px 1px 2px rgba(60, 64, 67, 0.3), 0px 1px 3px 1px rgba(60, 64, 67, 0.15);\n",
              "      fill: #174EA6;\n",
              "    }\n",
              "\n",
              "    [theme=dark] .colab-df-convert {\n",
              "      background-color: #3B4455;\n",
              "      fill: #D2E3FC;\n",
              "    }\n",
              "\n",
              "    [theme=dark] .colab-df-convert:hover {\n",
              "      background-color: #434B5C;\n",
              "      box-shadow: 0px 1px 3px 1px rgba(0, 0, 0, 0.15);\n",
              "      filter: drop-shadow(0px 1px 2px rgba(0, 0, 0, 0.3));\n",
              "      fill: #FFFFFF;\n",
              "    }\n",
              "  </style>\n",
              "\n",
              "      <script>\n",
              "        const buttonEl =\n",
              "          document.querySelector('#df-1f5014e2-9527-4b65-9a5a-b357e269547c button.colab-df-convert');\n",
              "        buttonEl.style.display =\n",
              "          google.colab.kernel.accessAllowed ? 'block' : 'none';\n",
              "\n",
              "        async function convertToInteractive(key) {\n",
              "          const element = document.querySelector('#df-1f5014e2-9527-4b65-9a5a-b357e269547c');\n",
              "          const dataTable =\n",
              "            await google.colab.kernel.invokeFunction('convertToInteractive',\n",
              "                                                     [key], {});\n",
              "          if (!dataTable) return;\n",
              "\n",
              "          const docLinkHtml = 'Like what you see? Visit the ' +\n",
              "            '<a target=\"_blank\" href=https://colab.research.google.com/notebooks/data_table.ipynb>data table notebook</a>'\n",
              "            + ' to learn more about interactive tables.';\n",
              "          element.innerHTML = '';\n",
              "          dataTable['output_type'] = 'display_data';\n",
              "          await google.colab.output.renderOutput(dataTable, element);\n",
              "          const docLink = document.createElement('div');\n",
              "          docLink.innerHTML = docLinkHtml;\n",
              "          element.appendChild(docLink);\n",
              "        }\n",
              "      </script>\n",
              "    </div>\n",
              "  </div>\n",
              "  "
            ]
          },
          "metadata": {}
        }
      ]
    },
    {
      "cell_type": "markdown",
      "source": [
        "**PRESCRIPTIONS**\n",
        "\n",
        "All drug names for variables from prescriptions table are known as per https://github.com/USC-Melady/Benchmarking_DL_MIMICIII/blob/master/Codes/mimic3_mvcv/config/99plusf.csv."
      ],
      "metadata": {
        "id": "vXpxbeBxFdX4"
      }
    },
    {
      "cell_type": "code",
      "source": [
        "drugs = [\"ASA325\", \"ASA81\", \"BISA10R\", \"BISA5\", \"DOCU100\", \"HEPBASE\", \"INHRIV\", \"INSULIN\", \"KCL40I\",\n",
        "                \"MICROK10\", \"MAG2PM\", \"METO25\", \"METO50\", \"NACLFLUSH\", \"NS1000\", \"PANT40\", \"PANT40I\"]\n",
        "drugs = ', '.join(str(x) for x in drugs)"
      ],
      "metadata": {
        "id": "KY_mwyZeFhHx"
      },
      "execution_count": 6,
      "outputs": []
    },
    {
      "cell_type": "markdown",
      "source": [
        "These drug codes don't exist in prescriptions table... I will just use their names as per Supplementary Info."
      ],
      "metadata": {
        "id": "A8UkiKVCTqxx"
      }
    },
    {
      "cell_type": "code",
      "source": [
        "drugs = ['Aspirin', 'Bisacodyl', 'Docusate Sodium', 'D5W', 'Humulin-R Insulin', 'Potassium Chloride', 'Magnesium Sulfate', 'Metoprolol Tartrate', \n",
        "        'Sodium Chloride 0.9% Flush', 'Pantoprazole']\n",
        "drugs = ', '.join(str(x) for x in drugs)"
      ],
      "metadata": {
        "id": "Wu78ij1DPmN8"
      },
      "execution_count": 11,
      "outputs": []
    },
    {
      "cell_type": "code",
      "source": [
        "drug = run_query(f'''\n",
        "SELECT fco.subject_id, fco.hadm_id, fco.stay_id, fco.intime\n",
        ", dr.drug, dr.starttime, dr.dose_val_rx, dr.dose_unit_rx\n",
        ", CASE WHEN DATE_DIFF(dr.starttime,  CAST(fco.intime AS date), hour) > 48 THEN 1 ELSE 0 END AS exclude_after48h\n",
        ", CASE WHEN dr.starttime IS NULL THEN 1 ELSE 0 END AS exclude_null_time\n",
        ", CASE WHEN dr.dose_val_rx IS NULL THEN 1 ELSE 0 END AS exclude_null_dose\n",
        ", CASE WHEN dr.dose_val_rx = '0' THEN 1 ELSE 0 END AS exclude_zero_dose\n",
        ", CASE WHEN dr.dose_unit_rx IS NULL THEN 1 ELSE 0 END AS exclude_null_unit\n",
        "FROM `physionet-data.mimic_hosp.prescriptions` dr\n",
        "INNER JOIN `genuine-box-350018.rnn_dataset.final-cohort-table` fco\n",
        "ON fco.hadm_id = dr.hadm_id\n",
        "WHERE LOWER(dr.drug) IN ('aspirin', 'bisacodyl', 'docusate sodium', 'd5w', 'humulin-r insulin', 'potassium chloride', 'magnesium sulfate', 'metoprolol tartrate', \n",
        "        'sodium chloride 0.9% flush', 'pantoprazole')\n",
        "''')\n",
        "display(drug)"
      ],
      "metadata": {
        "colab": {
          "base_uri": "https://localhost:8080/",
          "height": 939
        },
        "id": "PSVmsW0gMjZH",
        "outputId": "b7eb1e02-5ad9-482e-b46f-c169ea76adff"
      },
      "execution_count": 18,
      "outputs": [
        {
          "output_type": "stream",
          "name": "stderr",
          "text": [
            "/usr/local/lib/python3.7/dist-packages/google/cloud/bigquery/table.py:1582: FutureWarning: Data is timezone-aware. Converting timezone-aware data to timezone-naive by passing dtype='datetime64[ns]' to DataFrame or Series is deprecated and will raise in a future version. Use `pd.Series(values).dt.tz_localize(None)` instead.\n",
            "  bqstorage_client=bqstorage_client, dtypes=dtypes\n",
            "/usr/local/lib/python3.7/dist-packages/google/cloud/bigquery/table.py:1582: FutureWarning: Data is timezone-aware. Converting timezone-aware data to timezone-naive by passing dtype='datetime64[ns]' to DataFrame or Series is deprecated and will raise in a future version. Use `pd.Series(values).dt.tz_localize(None)` instead.\n",
            "  bqstorage_client=bqstorage_client, dtypes=dtypes\n",
            "/usr/local/lib/python3.7/dist-packages/google/cloud/bigquery/table.py:1582: FutureWarning: Data is timezone-aware. Converting timezone-aware data to timezone-naive by passing dtype='datetime64[ns]' to DataFrame or Series is deprecated and will raise in a future version. Use `pd.Series(values).dt.tz_localize(None)` instead.\n",
            "  bqstorage_client=bqstorage_client, dtypes=dtypes\n"
          ]
        },
        {
          "output_type": "display_data",
          "data": {
            "text/plain": [
              "        subject_id   hadm_id   stay_id                    intime  \\\n",
              "0         10131771  29307511  32851340 2117-08-29 02:53:58+00:00   \n",
              "1         12790812  29404160  37694225 2178-09-27 20:33:00+00:00   \n",
              "2         15612422  20131988  38671826 2147-05-04 10:08:03+00:00   \n",
              "3         16622813  26382064  32922138 2180-11-09 20:46:31+00:00   \n",
              "4         12875569  21017384  35371396 2184-04-13 21:06:05+00:00   \n",
              "...            ...       ...       ...                       ...   \n",
              "274417    13135946  27380004  30690102 2142-01-06 22:00:03+00:00   \n",
              "274418    18231053  20661797  35802031 2156-07-10 10:08:54+00:00   \n",
              "274419    13104348  27693989  37158575 2186-09-11 18:36:15+00:00   \n",
              "274420    19770977  22869142  30976967 2149-12-21 11:52:23+00:00   \n",
              "274421    19683480  27305874  31077652 2149-04-27 20:44:19+00:00   \n",
              "\n",
              "                       drug           starttime dose_val_rx dose_unit_rx  \\\n",
              "0       Metoprolol Tartrate 2117-08-28 23:00:00     2.5 - 5           mg   \n",
              "1        Potassium Chloride 2178-09-29 18:00:00       40-60          mEq   \n",
              "2        Potassium Chloride 2147-05-04 20:00:00       40-60          mEq   \n",
              "3        Potassium Chloride 2180-11-12 00:00:00       40-60          mEq   \n",
              "4        Potassium Chloride 2184-04-14 00:00:00       20-40          mEq   \n",
              "...                     ...                 ...         ...          ...   \n",
              "274417            Bisacodyl 2142-01-10 13:00:00        5-10           mg   \n",
              "274418            Bisacodyl 2156-07-14 09:00:00        5-10           mg   \n",
              "274419            Bisacodyl 2186-09-14 13:00:00        5-10           mg   \n",
              "274420            Bisacodyl 2149-12-01 15:00:00        5-10           mg   \n",
              "274421            Bisacodyl 2149-05-03 22:00:00        5-10           mg   \n",
              "\n",
              "        exclude_after48h  exclude_null_time  exclude_null_dose  \\\n",
              "0                      0                  0                  0   \n",
              "1                      1                  0                  0   \n",
              "2                      0                  0                  0   \n",
              "3                      1                  0                  0   \n",
              "4                      0                  0                  0   \n",
              "...                  ...                ...                ...   \n",
              "274417                 1                  0                  0   \n",
              "274418                 1                  0                  0   \n",
              "274419                 1                  0                  0   \n",
              "274420                 0                  0                  0   \n",
              "274421                 1                  0                  0   \n",
              "\n",
              "        exclude_zero_dose  exclude_null_unit  \n",
              "0                       0                  0  \n",
              "1                       0                  0  \n",
              "2                       0                  0  \n",
              "3                       0                  0  \n",
              "4                       0                  0  \n",
              "...                   ...                ...  \n",
              "274417                  0                  0  \n",
              "274418                  0                  0  \n",
              "274419                  0                  0  \n",
              "274420                  0                  0  \n",
              "274421                  0                  0  \n",
              "\n",
              "[274422 rows x 13 columns]"
            ],
            "text/html": [
              "\n",
              "  <div id=\"df-9f6677f7-205a-4022-b02b-b8ac54bed984\">\n",
              "    <div class=\"colab-df-container\">\n",
              "      <div>\n",
              "<style scoped>\n",
              "    .dataframe tbody tr th:only-of-type {\n",
              "        vertical-align: middle;\n",
              "    }\n",
              "\n",
              "    .dataframe tbody tr th {\n",
              "        vertical-align: top;\n",
              "    }\n",
              "\n",
              "    .dataframe thead th {\n",
              "        text-align: right;\n",
              "    }\n",
              "</style>\n",
              "<table border=\"1\" class=\"dataframe\">\n",
              "  <thead>\n",
              "    <tr style=\"text-align: right;\">\n",
              "      <th></th>\n",
              "      <th>subject_id</th>\n",
              "      <th>hadm_id</th>\n",
              "      <th>stay_id</th>\n",
              "      <th>intime</th>\n",
              "      <th>drug</th>\n",
              "      <th>starttime</th>\n",
              "      <th>dose_val_rx</th>\n",
              "      <th>dose_unit_rx</th>\n",
              "      <th>exclude_after48h</th>\n",
              "      <th>exclude_null_time</th>\n",
              "      <th>exclude_null_dose</th>\n",
              "      <th>exclude_zero_dose</th>\n",
              "      <th>exclude_null_unit</th>\n",
              "    </tr>\n",
              "  </thead>\n",
              "  <tbody>\n",
              "    <tr>\n",
              "      <th>0</th>\n",
              "      <td>10131771</td>\n",
              "      <td>29307511</td>\n",
              "      <td>32851340</td>\n",
              "      <td>2117-08-29 02:53:58+00:00</td>\n",
              "      <td>Metoprolol Tartrate</td>\n",
              "      <td>2117-08-28 23:00:00</td>\n",
              "      <td>2.5 - 5</td>\n",
              "      <td>mg</td>\n",
              "      <td>0</td>\n",
              "      <td>0</td>\n",
              "      <td>0</td>\n",
              "      <td>0</td>\n",
              "      <td>0</td>\n",
              "    </tr>\n",
              "    <tr>\n",
              "      <th>1</th>\n",
              "      <td>12790812</td>\n",
              "      <td>29404160</td>\n",
              "      <td>37694225</td>\n",
              "      <td>2178-09-27 20:33:00+00:00</td>\n",
              "      <td>Potassium Chloride</td>\n",
              "      <td>2178-09-29 18:00:00</td>\n",
              "      <td>40-60</td>\n",
              "      <td>mEq</td>\n",
              "      <td>1</td>\n",
              "      <td>0</td>\n",
              "      <td>0</td>\n",
              "      <td>0</td>\n",
              "      <td>0</td>\n",
              "    </tr>\n",
              "    <tr>\n",
              "      <th>2</th>\n",
              "      <td>15612422</td>\n",
              "      <td>20131988</td>\n",
              "      <td>38671826</td>\n",
              "      <td>2147-05-04 10:08:03+00:00</td>\n",
              "      <td>Potassium Chloride</td>\n",
              "      <td>2147-05-04 20:00:00</td>\n",
              "      <td>40-60</td>\n",
              "      <td>mEq</td>\n",
              "      <td>0</td>\n",
              "      <td>0</td>\n",
              "      <td>0</td>\n",
              "      <td>0</td>\n",
              "      <td>0</td>\n",
              "    </tr>\n",
              "    <tr>\n",
              "      <th>3</th>\n",
              "      <td>16622813</td>\n",
              "      <td>26382064</td>\n",
              "      <td>32922138</td>\n",
              "      <td>2180-11-09 20:46:31+00:00</td>\n",
              "      <td>Potassium Chloride</td>\n",
              "      <td>2180-11-12 00:00:00</td>\n",
              "      <td>40-60</td>\n",
              "      <td>mEq</td>\n",
              "      <td>1</td>\n",
              "      <td>0</td>\n",
              "      <td>0</td>\n",
              "      <td>0</td>\n",
              "      <td>0</td>\n",
              "    </tr>\n",
              "    <tr>\n",
              "      <th>4</th>\n",
              "      <td>12875569</td>\n",
              "      <td>21017384</td>\n",
              "      <td>35371396</td>\n",
              "      <td>2184-04-13 21:06:05+00:00</td>\n",
              "      <td>Potassium Chloride</td>\n",
              "      <td>2184-04-14 00:00:00</td>\n",
              "      <td>20-40</td>\n",
              "      <td>mEq</td>\n",
              "      <td>0</td>\n",
              "      <td>0</td>\n",
              "      <td>0</td>\n",
              "      <td>0</td>\n",
              "      <td>0</td>\n",
              "    </tr>\n",
              "    <tr>\n",
              "      <th>...</th>\n",
              "      <td>...</td>\n",
              "      <td>...</td>\n",
              "      <td>...</td>\n",
              "      <td>...</td>\n",
              "      <td>...</td>\n",
              "      <td>...</td>\n",
              "      <td>...</td>\n",
              "      <td>...</td>\n",
              "      <td>...</td>\n",
              "      <td>...</td>\n",
              "      <td>...</td>\n",
              "      <td>...</td>\n",
              "      <td>...</td>\n",
              "    </tr>\n",
              "    <tr>\n",
              "      <th>274417</th>\n",
              "      <td>13135946</td>\n",
              "      <td>27380004</td>\n",
              "      <td>30690102</td>\n",
              "      <td>2142-01-06 22:00:03+00:00</td>\n",
              "      <td>Bisacodyl</td>\n",
              "      <td>2142-01-10 13:00:00</td>\n",
              "      <td>5-10</td>\n",
              "      <td>mg</td>\n",
              "      <td>1</td>\n",
              "      <td>0</td>\n",
              "      <td>0</td>\n",
              "      <td>0</td>\n",
              "      <td>0</td>\n",
              "    </tr>\n",
              "    <tr>\n",
              "      <th>274418</th>\n",
              "      <td>18231053</td>\n",
              "      <td>20661797</td>\n",
              "      <td>35802031</td>\n",
              "      <td>2156-07-10 10:08:54+00:00</td>\n",
              "      <td>Bisacodyl</td>\n",
              "      <td>2156-07-14 09:00:00</td>\n",
              "      <td>5-10</td>\n",
              "      <td>mg</td>\n",
              "      <td>1</td>\n",
              "      <td>0</td>\n",
              "      <td>0</td>\n",
              "      <td>0</td>\n",
              "      <td>0</td>\n",
              "    </tr>\n",
              "    <tr>\n",
              "      <th>274419</th>\n",
              "      <td>13104348</td>\n",
              "      <td>27693989</td>\n",
              "      <td>37158575</td>\n",
              "      <td>2186-09-11 18:36:15+00:00</td>\n",
              "      <td>Bisacodyl</td>\n",
              "      <td>2186-09-14 13:00:00</td>\n",
              "      <td>5-10</td>\n",
              "      <td>mg</td>\n",
              "      <td>1</td>\n",
              "      <td>0</td>\n",
              "      <td>0</td>\n",
              "      <td>0</td>\n",
              "      <td>0</td>\n",
              "    </tr>\n",
              "    <tr>\n",
              "      <th>274420</th>\n",
              "      <td>19770977</td>\n",
              "      <td>22869142</td>\n",
              "      <td>30976967</td>\n",
              "      <td>2149-12-21 11:52:23+00:00</td>\n",
              "      <td>Bisacodyl</td>\n",
              "      <td>2149-12-01 15:00:00</td>\n",
              "      <td>5-10</td>\n",
              "      <td>mg</td>\n",
              "      <td>0</td>\n",
              "      <td>0</td>\n",
              "      <td>0</td>\n",
              "      <td>0</td>\n",
              "      <td>0</td>\n",
              "    </tr>\n",
              "    <tr>\n",
              "      <th>274421</th>\n",
              "      <td>19683480</td>\n",
              "      <td>27305874</td>\n",
              "      <td>31077652</td>\n",
              "      <td>2149-04-27 20:44:19+00:00</td>\n",
              "      <td>Bisacodyl</td>\n",
              "      <td>2149-05-03 22:00:00</td>\n",
              "      <td>5-10</td>\n",
              "      <td>mg</td>\n",
              "      <td>1</td>\n",
              "      <td>0</td>\n",
              "      <td>0</td>\n",
              "      <td>0</td>\n",
              "      <td>0</td>\n",
              "    </tr>\n",
              "  </tbody>\n",
              "</table>\n",
              "<p>274422 rows × 13 columns</p>\n",
              "</div>\n",
              "      <button class=\"colab-df-convert\" onclick=\"convertToInteractive('df-9f6677f7-205a-4022-b02b-b8ac54bed984')\"\n",
              "              title=\"Convert this dataframe to an interactive table.\"\n",
              "              style=\"display:none;\">\n",
              "        \n",
              "  <svg xmlns=\"http://www.w3.org/2000/svg\" height=\"24px\"viewBox=\"0 0 24 24\"\n",
              "       width=\"24px\">\n",
              "    <path d=\"M0 0h24v24H0V0z\" fill=\"none\"/>\n",
              "    <path d=\"M18.56 5.44l.94 2.06.94-2.06 2.06-.94-2.06-.94-.94-2.06-.94 2.06-2.06.94zm-11 1L8.5 8.5l.94-2.06 2.06-.94-2.06-.94L8.5 2.5l-.94 2.06-2.06.94zm10 10l.94 2.06.94-2.06 2.06-.94-2.06-.94-.94-2.06-.94 2.06-2.06.94z\"/><path d=\"M17.41 7.96l-1.37-1.37c-.4-.4-.92-.59-1.43-.59-.52 0-1.04.2-1.43.59L10.3 9.45l-7.72 7.72c-.78.78-.78 2.05 0 2.83L4 21.41c.39.39.9.59 1.41.59.51 0 1.02-.2 1.41-.59l7.78-7.78 2.81-2.81c.8-.78.8-2.07 0-2.86zM5.41 20L4 18.59l7.72-7.72 1.47 1.35L5.41 20z\"/>\n",
              "  </svg>\n",
              "      </button>\n",
              "      \n",
              "  <style>\n",
              "    .colab-df-container {\n",
              "      display:flex;\n",
              "      flex-wrap:wrap;\n",
              "      gap: 12px;\n",
              "    }\n",
              "\n",
              "    .colab-df-convert {\n",
              "      background-color: #E8F0FE;\n",
              "      border: none;\n",
              "      border-radius: 50%;\n",
              "      cursor: pointer;\n",
              "      display: none;\n",
              "      fill: #1967D2;\n",
              "      height: 32px;\n",
              "      padding: 0 0 0 0;\n",
              "      width: 32px;\n",
              "    }\n",
              "\n",
              "    .colab-df-convert:hover {\n",
              "      background-color: #E2EBFA;\n",
              "      box-shadow: 0px 1px 2px rgba(60, 64, 67, 0.3), 0px 1px 3px 1px rgba(60, 64, 67, 0.15);\n",
              "      fill: #174EA6;\n",
              "    }\n",
              "\n",
              "    [theme=dark] .colab-df-convert {\n",
              "      background-color: #3B4455;\n",
              "      fill: #D2E3FC;\n",
              "    }\n",
              "\n",
              "    [theme=dark] .colab-df-convert:hover {\n",
              "      background-color: #434B5C;\n",
              "      box-shadow: 0px 1px 3px 1px rgba(0, 0, 0, 0.15);\n",
              "      filter: drop-shadow(0px 1px 2px rgba(0, 0, 0, 0.3));\n",
              "      fill: #FFFFFF;\n",
              "    }\n",
              "  </style>\n",
              "\n",
              "      <script>\n",
              "        const buttonEl =\n",
              "          document.querySelector('#df-9f6677f7-205a-4022-b02b-b8ac54bed984 button.colab-df-convert');\n",
              "        buttonEl.style.display =\n",
              "          google.colab.kernel.accessAllowed ? 'block' : 'none';\n",
              "\n",
              "        async function convertToInteractive(key) {\n",
              "          const element = document.querySelector('#df-9f6677f7-205a-4022-b02b-b8ac54bed984');\n",
              "          const dataTable =\n",
              "            await google.colab.kernel.invokeFunction('convertToInteractive',\n",
              "                                                     [key], {});\n",
              "          if (!dataTable) return;\n",
              "\n",
              "          const docLinkHtml = 'Like what you see? Visit the ' +\n",
              "            '<a target=\"_blank\" href=https://colab.research.google.com/notebooks/data_table.ipynb>data table notebook</a>'\n",
              "            + ' to learn more about interactive tables.';\n",
              "          element.innerHTML = '';\n",
              "          dataTable['output_type'] = 'display_data';\n",
              "          await google.colab.output.renderOutput(dataTable, element);\n",
              "          const docLink = document.createElement('div');\n",
              "          docLink.innerHTML = docLinkHtml;\n",
              "          element.appendChild(docLink);\n",
              "        }\n",
              "      </script>\n",
              "    </div>\n",
              "  </div>\n",
              "  "
            ]
          },
          "metadata": {}
        }
      ]
    },
    {
      "cell_type": "code",
      "source": [
        "pandas_gbq.to_gbq(drug,'rnn_dataset.prescription-table', project_id=project_id, if_exists='replace')"
      ],
      "metadata": {
        "colab": {
          "base_uri": "https://localhost:8080/"
        },
        "id": "zlNfgMD4WYNH",
        "outputId": "5c09e03c-4458-4ff4-9300-5a39a9236bc6"
      },
      "execution_count": 19,
      "outputs": [
        {
          "output_type": "stream",
          "name": "stderr",
          "text": [
            "1it [00:22, 22.99s/it]\n"
          ]
        }
      ]
    },
    {
      "cell_type": "code",
      "source": [
        "drug = run_query(f'''\n",
        "SELECT *\n",
        "FROM `genuine-box-350018.rnn_dataset.prescription-table`\n",
        "''')"
      ],
      "metadata": {
        "colab": {
          "base_uri": "https://localhost:8080/"
        },
        "id": "v9UGAN3VNmJU",
        "outputId": "d004b3b0-51fd-4ae3-f646-b2e970372ac5"
      },
      "execution_count": 33,
      "outputs": [
        {
          "output_type": "stream",
          "name": "stderr",
          "text": [
            "/usr/local/lib/python3.7/dist-packages/google/cloud/bigquery/table.py:1582: FutureWarning: Data is timezone-aware. Converting timezone-aware data to timezone-naive by passing dtype='datetime64[ns]' to DataFrame or Series is deprecated and will raise in a future version. Use `pd.Series(values).dt.tz_localize(None)` instead.\n",
            "  bqstorage_client=bqstorage_client, dtypes=dtypes\n",
            "/usr/local/lib/python3.7/dist-packages/google/cloud/bigquery/table.py:1582: FutureWarning: Data is timezone-aware. Converting timezone-aware data to timezone-naive by passing dtype='datetime64[ns]' to DataFrame or Series is deprecated and will raise in a future version. Use `pd.Series(values).dt.tz_localize(None)` instead.\n",
            "  bqstorage_client=bqstorage_client, dtypes=dtypes\n",
            "/usr/local/lib/python3.7/dist-packages/google/cloud/bigquery/table.py:1582: FutureWarning: Data is timezone-aware. Converting timezone-aware data to timezone-naive by passing dtype='datetime64[ns]' to DataFrame or Series is deprecated and will raise in a future version. Use `pd.Series(values).dt.tz_localize(None)` instead.\n",
            "  bqstorage_client=bqstorage_client, dtypes=dtypes\n"
          ]
        }
      ]
    },
    {
      "cell_type": "code",
      "source": [
        "print(drug['exclude_after48h'].sum())"
      ],
      "metadata": {
        "colab": {
          "base_uri": "https://localhost:8080/"
        },
        "id": "HzgkSAWWWfvz",
        "outputId": "48a4f2b6-df9f-496e-fa16-0daef9eed5d3"
      },
      "execution_count": 12,
      "outputs": [
        {
          "output_type": "stream",
          "name": "stdout",
          "text": [
            "135524\n"
          ]
        }
      ]
    },
    {
      "cell_type": "code",
      "source": [
        "print(drug['exclude_null_time'].sum())"
      ],
      "metadata": {
        "colab": {
          "base_uri": "https://localhost:8080/"
        },
        "id": "7_Ke-1DnWhjW",
        "outputId": "acb22550-2932-4ff4-d3d3-1df7ea2b60e0"
      },
      "execution_count": 13,
      "outputs": [
        {
          "output_type": "stream",
          "name": "stdout",
          "text": [
            "116\n"
          ]
        }
      ]
    },
    {
      "cell_type": "code",
      "source": [
        "print(drug['exclude_null_dose'].sum())"
      ],
      "metadata": {
        "colab": {
          "base_uri": "https://localhost:8080/"
        },
        "id": "O3_CjGeRWmbt",
        "outputId": "3db79435-43cd-4a0e-f3ac-9e13c0097f19"
      },
      "execution_count": 14,
      "outputs": [
        {
          "output_type": "stream",
          "name": "stdout",
          "text": [
            "84\n"
          ]
        }
      ]
    },
    {
      "cell_type": "code",
      "source": [
        "print(drug['exclude_zero_dose'].sum())"
      ],
      "metadata": {
        "colab": {
          "base_uri": "https://localhost:8080/"
        },
        "id": "p5zvJXh-WouI",
        "outputId": "c765cecb-0268-4d78-efc3-800f30b113df"
      },
      "execution_count": 15,
      "outputs": [
        {
          "output_type": "stream",
          "name": "stdout",
          "text": [
            "10\n"
          ]
        }
      ]
    },
    {
      "cell_type": "code",
      "source": [
        "print(drug['exclude_null_unit'].sum())"
      ],
      "metadata": {
        "colab": {
          "base_uri": "https://localhost:8080/"
        },
        "id": "4T0ydeZjWscw",
        "outputId": "00d0d8be-5e95-49d4-a75f-fc41cfed631f"
      },
      "execution_count": 16,
      "outputs": [
        {
          "output_type": "stream",
          "name": "stdout",
          "text": [
            "84\n"
          ]
        }
      ]
    },
    {
      "cell_type": "code",
      "source": [
        "# subsetting the dataset and removing excluded records \n",
        "drug=drug[(drug.exclude_after48h==0)&(drug.exclude_null_time==0)&(drug.exclude_null_dose==0)&(drug.exclude_null_unit==0)&(drug.exclude_zero_dose==0)][['subject_id','hadm_id', 'stay_id', 'intime', 'drug', 'starttime', 'dose_val_rx', 'dose_unit_rx']]"
      ],
      "metadata": {
        "id": "1yyYKhBqXYnv"
      },
      "execution_count": 34,
      "outputs": []
    },
    {
      "cell_type": "code",
      "source": [
        "display(drug)"
      ],
      "metadata": {
        "colab": {
          "base_uri": "https://localhost:8080/",
          "height": 424
        },
        "id": "AUKNpUSFXxR7",
        "outputId": "1722f234-525b-4859-e543-ca146f22054c"
      },
      "execution_count": 35,
      "outputs": [
        {
          "output_type": "display_data",
          "data": {
            "text/plain": [
              "        subject_id   hadm_id   stay_id                    intime  \\\n",
              "84        18068553  21442729  31297449 2162-06-05 07:28:00+00:00   \n",
              "85        18068553  21442729  31297449 2162-06-05 07:28:00+00:00   \n",
              "86        18068553  21442729  31297449 2162-06-05 07:28:00+00:00   \n",
              "88        16815463  27022067  30022281 2123-04-04 15:28:00+00:00   \n",
              "90        16815463  27022067  30022281 2123-04-04 15:28:00+00:00   \n",
              "...            ...       ...       ...                       ...   \n",
              "274415    16435470  22252925  37935070 2187-07-26 07:01:27+00:00   \n",
              "274416    16435470  22252925  37935070 2187-07-26 07:01:27+00:00   \n",
              "274417    16435470  22252925  37935070 2187-07-26 07:01:27+00:00   \n",
              "274419    15170887  29502188  34726446 2139-12-13 21:07:08+00:00   \n",
              "274421    15050349  23031841  31418874 2172-06-17 03:14:29+00:00   \n",
              "\n",
              "                      drug                 starttime dose_val_rx dose_unit_rx  \n",
              "84       Magnesium Sulfate 2162-06-05 13:00:00+00:00           4           gm  \n",
              "85       Magnesium Sulfate 2162-06-05 13:00:00+00:00         2-4           gm  \n",
              "86       Magnesium Sulfate 2162-06-05 13:00:00+00:00           2           gm  \n",
              "88       Magnesium Sulfate 2123-04-05 01:00:00+00:00           4           gm  \n",
              "90       Magnesium Sulfate 2123-04-05 01:00:00+00:00         2-4           gm  \n",
              "...                    ...                       ...         ...          ...  \n",
              "274415  Potassium Chloride 2187-07-26 11:00:00+00:00          40          mEq  \n",
              "274416  Potassium Chloride 2187-07-26 22:00:00+00:00          60          mEq  \n",
              "274417  Potassium Chloride 2187-07-27 15:00:00+00:00          60          mEq  \n",
              "274419  Potassium Chloride 2139-12-03 17:00:00+00:00          30         mmol  \n",
              "274421  Potassium Chloride 2172-06-17 06:00:00+00:00          15         mmol  \n",
              "\n",
              "[138711 rows x 8 columns]"
            ],
            "text/html": [
              "\n",
              "  <div id=\"df-22696d0d-7a35-4fc7-95e4-3a3c797e00a3\">\n",
              "    <div class=\"colab-df-container\">\n",
              "      <div>\n",
              "<style scoped>\n",
              "    .dataframe tbody tr th:only-of-type {\n",
              "        vertical-align: middle;\n",
              "    }\n",
              "\n",
              "    .dataframe tbody tr th {\n",
              "        vertical-align: top;\n",
              "    }\n",
              "\n",
              "    .dataframe thead th {\n",
              "        text-align: right;\n",
              "    }\n",
              "</style>\n",
              "<table border=\"1\" class=\"dataframe\">\n",
              "  <thead>\n",
              "    <tr style=\"text-align: right;\">\n",
              "      <th></th>\n",
              "      <th>subject_id</th>\n",
              "      <th>hadm_id</th>\n",
              "      <th>stay_id</th>\n",
              "      <th>intime</th>\n",
              "      <th>drug</th>\n",
              "      <th>starttime</th>\n",
              "      <th>dose_val_rx</th>\n",
              "      <th>dose_unit_rx</th>\n",
              "    </tr>\n",
              "  </thead>\n",
              "  <tbody>\n",
              "    <tr>\n",
              "      <th>84</th>\n",
              "      <td>18068553</td>\n",
              "      <td>21442729</td>\n",
              "      <td>31297449</td>\n",
              "      <td>2162-06-05 07:28:00+00:00</td>\n",
              "      <td>Magnesium Sulfate</td>\n",
              "      <td>2162-06-05 13:00:00+00:00</td>\n",
              "      <td>4</td>\n",
              "      <td>gm</td>\n",
              "    </tr>\n",
              "    <tr>\n",
              "      <th>85</th>\n",
              "      <td>18068553</td>\n",
              "      <td>21442729</td>\n",
              "      <td>31297449</td>\n",
              "      <td>2162-06-05 07:28:00+00:00</td>\n",
              "      <td>Magnesium Sulfate</td>\n",
              "      <td>2162-06-05 13:00:00+00:00</td>\n",
              "      <td>2-4</td>\n",
              "      <td>gm</td>\n",
              "    </tr>\n",
              "    <tr>\n",
              "      <th>86</th>\n",
              "      <td>18068553</td>\n",
              "      <td>21442729</td>\n",
              "      <td>31297449</td>\n",
              "      <td>2162-06-05 07:28:00+00:00</td>\n",
              "      <td>Magnesium Sulfate</td>\n",
              "      <td>2162-06-05 13:00:00+00:00</td>\n",
              "      <td>2</td>\n",
              "      <td>gm</td>\n",
              "    </tr>\n",
              "    <tr>\n",
              "      <th>88</th>\n",
              "      <td>16815463</td>\n",
              "      <td>27022067</td>\n",
              "      <td>30022281</td>\n",
              "      <td>2123-04-04 15:28:00+00:00</td>\n",
              "      <td>Magnesium Sulfate</td>\n",
              "      <td>2123-04-05 01:00:00+00:00</td>\n",
              "      <td>4</td>\n",
              "      <td>gm</td>\n",
              "    </tr>\n",
              "    <tr>\n",
              "      <th>90</th>\n",
              "      <td>16815463</td>\n",
              "      <td>27022067</td>\n",
              "      <td>30022281</td>\n",
              "      <td>2123-04-04 15:28:00+00:00</td>\n",
              "      <td>Magnesium Sulfate</td>\n",
              "      <td>2123-04-05 01:00:00+00:00</td>\n",
              "      <td>2-4</td>\n",
              "      <td>gm</td>\n",
              "    </tr>\n",
              "    <tr>\n",
              "      <th>...</th>\n",
              "      <td>...</td>\n",
              "      <td>...</td>\n",
              "      <td>...</td>\n",
              "      <td>...</td>\n",
              "      <td>...</td>\n",
              "      <td>...</td>\n",
              "      <td>...</td>\n",
              "      <td>...</td>\n",
              "    </tr>\n",
              "    <tr>\n",
              "      <th>274415</th>\n",
              "      <td>16435470</td>\n",
              "      <td>22252925</td>\n",
              "      <td>37935070</td>\n",
              "      <td>2187-07-26 07:01:27+00:00</td>\n",
              "      <td>Potassium Chloride</td>\n",
              "      <td>2187-07-26 11:00:00+00:00</td>\n",
              "      <td>40</td>\n",
              "      <td>mEq</td>\n",
              "    </tr>\n",
              "    <tr>\n",
              "      <th>274416</th>\n",
              "      <td>16435470</td>\n",
              "      <td>22252925</td>\n",
              "      <td>37935070</td>\n",
              "      <td>2187-07-26 07:01:27+00:00</td>\n",
              "      <td>Potassium Chloride</td>\n",
              "      <td>2187-07-26 22:00:00+00:00</td>\n",
              "      <td>60</td>\n",
              "      <td>mEq</td>\n",
              "    </tr>\n",
              "    <tr>\n",
              "      <th>274417</th>\n",
              "      <td>16435470</td>\n",
              "      <td>22252925</td>\n",
              "      <td>37935070</td>\n",
              "      <td>2187-07-26 07:01:27+00:00</td>\n",
              "      <td>Potassium Chloride</td>\n",
              "      <td>2187-07-27 15:00:00+00:00</td>\n",
              "      <td>60</td>\n",
              "      <td>mEq</td>\n",
              "    </tr>\n",
              "    <tr>\n",
              "      <th>274419</th>\n",
              "      <td>15170887</td>\n",
              "      <td>29502188</td>\n",
              "      <td>34726446</td>\n",
              "      <td>2139-12-13 21:07:08+00:00</td>\n",
              "      <td>Potassium Chloride</td>\n",
              "      <td>2139-12-03 17:00:00+00:00</td>\n",
              "      <td>30</td>\n",
              "      <td>mmol</td>\n",
              "    </tr>\n",
              "    <tr>\n",
              "      <th>274421</th>\n",
              "      <td>15050349</td>\n",
              "      <td>23031841</td>\n",
              "      <td>31418874</td>\n",
              "      <td>2172-06-17 03:14:29+00:00</td>\n",
              "      <td>Potassium Chloride</td>\n",
              "      <td>2172-06-17 06:00:00+00:00</td>\n",
              "      <td>15</td>\n",
              "      <td>mmol</td>\n",
              "    </tr>\n",
              "  </tbody>\n",
              "</table>\n",
              "<p>138711 rows × 8 columns</p>\n",
              "</div>\n",
              "      <button class=\"colab-df-convert\" onclick=\"convertToInteractive('df-22696d0d-7a35-4fc7-95e4-3a3c797e00a3')\"\n",
              "              title=\"Convert this dataframe to an interactive table.\"\n",
              "              style=\"display:none;\">\n",
              "        \n",
              "  <svg xmlns=\"http://www.w3.org/2000/svg\" height=\"24px\"viewBox=\"0 0 24 24\"\n",
              "       width=\"24px\">\n",
              "    <path d=\"M0 0h24v24H0V0z\" fill=\"none\"/>\n",
              "    <path d=\"M18.56 5.44l.94 2.06.94-2.06 2.06-.94-2.06-.94-.94-2.06-.94 2.06-2.06.94zm-11 1L8.5 8.5l.94-2.06 2.06-.94-2.06-.94L8.5 2.5l-.94 2.06-2.06.94zm10 10l.94 2.06.94-2.06 2.06-.94-2.06-.94-.94-2.06-.94 2.06-2.06.94z\"/><path d=\"M17.41 7.96l-1.37-1.37c-.4-.4-.92-.59-1.43-.59-.52 0-1.04.2-1.43.59L10.3 9.45l-7.72 7.72c-.78.78-.78 2.05 0 2.83L4 21.41c.39.39.9.59 1.41.59.51 0 1.02-.2 1.41-.59l7.78-7.78 2.81-2.81c.8-.78.8-2.07 0-2.86zM5.41 20L4 18.59l7.72-7.72 1.47 1.35L5.41 20z\"/>\n",
              "  </svg>\n",
              "      </button>\n",
              "      \n",
              "  <style>\n",
              "    .colab-df-container {\n",
              "      display:flex;\n",
              "      flex-wrap:wrap;\n",
              "      gap: 12px;\n",
              "    }\n",
              "\n",
              "    .colab-df-convert {\n",
              "      background-color: #E8F0FE;\n",
              "      border: none;\n",
              "      border-radius: 50%;\n",
              "      cursor: pointer;\n",
              "      display: none;\n",
              "      fill: #1967D2;\n",
              "      height: 32px;\n",
              "      padding: 0 0 0 0;\n",
              "      width: 32px;\n",
              "    }\n",
              "\n",
              "    .colab-df-convert:hover {\n",
              "      background-color: #E2EBFA;\n",
              "      box-shadow: 0px 1px 2px rgba(60, 64, 67, 0.3), 0px 1px 3px 1px rgba(60, 64, 67, 0.15);\n",
              "      fill: #174EA6;\n",
              "    }\n",
              "\n",
              "    [theme=dark] .colab-df-convert {\n",
              "      background-color: #3B4455;\n",
              "      fill: #D2E3FC;\n",
              "    }\n",
              "\n",
              "    [theme=dark] .colab-df-convert:hover {\n",
              "      background-color: #434B5C;\n",
              "      box-shadow: 0px 1px 3px 1px rgba(0, 0, 0, 0.15);\n",
              "      filter: drop-shadow(0px 1px 2px rgba(0, 0, 0, 0.3));\n",
              "      fill: #FFFFFF;\n",
              "    }\n",
              "  </style>\n",
              "\n",
              "      <script>\n",
              "        const buttonEl =\n",
              "          document.querySelector('#df-22696d0d-7a35-4fc7-95e4-3a3c797e00a3 button.colab-df-convert');\n",
              "        buttonEl.style.display =\n",
              "          google.colab.kernel.accessAllowed ? 'block' : 'none';\n",
              "\n",
              "        async function convertToInteractive(key) {\n",
              "          const element = document.querySelector('#df-22696d0d-7a35-4fc7-95e4-3a3c797e00a3');\n",
              "          const dataTable =\n",
              "            await google.colab.kernel.invokeFunction('convertToInteractive',\n",
              "                                                     [key], {});\n",
              "          if (!dataTable) return;\n",
              "\n",
              "          const docLinkHtml = 'Like what you see? Visit the ' +\n",
              "            '<a target=\"_blank\" href=https://colab.research.google.com/notebooks/data_table.ipynb>data table notebook</a>'\n",
              "            + ' to learn more about interactive tables.';\n",
              "          element.innerHTML = '';\n",
              "          dataTable['output_type'] = 'display_data';\n",
              "          await google.colab.output.renderOutput(dataTable, element);\n",
              "          const docLink = document.createElement('div');\n",
              "          docLink.innerHTML = docLinkHtml;\n",
              "          element.appendChild(docLink);\n",
              "        }\n",
              "      </script>\n",
              "    </div>\n",
              "  </div>\n",
              "  "
            ]
          },
          "metadata": {}
        }
      ]
    },
    {
      "cell_type": "markdown",
      "source": [
        "Creating time series data"
      ],
      "metadata": {
        "id": "kvEkQAGTX6BO"
      }
    },
    {
      "cell_type": "code",
      "source": [
        "# Calculating time difference of each record of prescriptions from their admission\n",
        "drug['timediff'] = (drug['starttime'] - drug['intime']).dt.total_seconds()/60/60"
      ],
      "metadata": {
        "id": "XCu6Q8DLYBfF"
      },
      "execution_count": 36,
      "outputs": []
    },
    {
      "cell_type": "code",
      "source": [
        "# Creating hour variable for time series\n",
        "drug['hour'] = np.ceil(drug['timediff']).astype(int)"
      ],
      "metadata": {
        "id": "lAi0Y08uYGX5"
      },
      "execution_count": 37,
      "outputs": []
    },
    {
      "cell_type": "code",
      "source": [
        "# I will call the label column as covariates \n",
        "drug['covariate'] = drug['drug']"
      ],
      "metadata": {
        "id": "u4dQ7yqMYOKn"
      },
      "execution_count": 38,
      "outputs": []
    },
    {
      "cell_type": "code",
      "source": [
        "drug['dose_val_rx']=drug['dose_val_rx'].astype(str)"
      ],
      "metadata": {
        "id": "SMJI5y9yPop6"
      },
      "execution_count": 39,
      "outputs": []
    },
    {
      "cell_type": "code",
      "source": [
        "drug['dose'] = [pd.to_numeric(x.split(\"-\")[1]) if '-' in x else pd.to_numeric(x) for x in drug['dose_val_rx']]"
      ],
      "metadata": {
        "id": "2emHUdmOTD8I"
      },
      "execution_count": 40,
      "outputs": []
    },
    {
      "cell_type": "code",
      "source": [
        "# Keeping only the relevant columns\n",
        "drug = drug[['subject_id', 'hadm_id', 'stay_id', 'hour', 'covariate', 'dose']]"
      ],
      "metadata": {
        "id": "2xdE8y63TqsL"
      },
      "execution_count": 41,
      "outputs": []
    },
    {
      "cell_type": "markdown",
      "source": [
        "Aggregating by sum"
      ],
      "metadata": {
        "id": "N8xD7WL9VfQd"
      }
    },
    {
      "cell_type": "code",
      "source": [
        "drug2=drug.groupby(['subject_id','hadm_id','stay_id','hour', 'covariate'], as_index=False)['dose'].sum()"
      ],
      "metadata": {
        "id": "f_2M8GdyVef9"
      },
      "execution_count": 42,
      "outputs": []
    },
    {
      "cell_type": "code",
      "source": [
        "pandas_gbq.to_gbq(drug2,'rnn_dataset.timeseries-pres-table', project_id=project_id, if_exists='replace')"
      ],
      "metadata": {
        "colab": {
          "base_uri": "https://localhost:8080/"
        },
        "id": "vuhJvDqtfOTq",
        "outputId": "cb74d8a1-ff15-4374-c8fa-d1be9c3a556e"
      },
      "execution_count": 43,
      "outputs": [
        {
          "output_type": "stream",
          "name": "stderr",
          "text": [
            "1it [00:05,  5.02s/it]\n"
          ]
        }
      ]
    }
  ]
}